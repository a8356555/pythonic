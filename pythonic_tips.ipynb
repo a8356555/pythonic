{
  "nbformat": 4,
  "nbformat_minor": 0,
  "metadata": {
    "colab": {
      "name": "pythonic tips.ipynb",
      "provenance": [],
      "collapsed_sections": []
    },
    "kernelspec": {
      "name": "python3",
      "display_name": "Python 3"
    }
  },
  "cells": [
    {
      "cell_type": "code",
      "metadata": {
        "colab": {
          "base_uri": "https://localhost:8080/"
        },
        "id": "5MdyIAN0LfIN",
        "outputId": "5e342b08-bb2c-46a1-86cb-fa7f5aec71d1"
      },
      "source": [
        "# built-in function\n",
        "#   sorted\n",
        "list_a = ['a', 'c', 'b']\n",
        "sorted(list_a)\n",
        "\n",
        "#   reversed\n",
        "for i in reversed(range(10)):\n",
        "  print(i)\n",
        "\n",
        "#   help()\n",
        "help(reversed)\n",
        "\n",
        "#   id() type()\n",
        "id(list_a)\n",
        "type(list_a)\n",
        "\n",
        "#   isinstance()\n",
        "isinstance(list_a, list)"
      ],
      "execution_count": 4,
      "outputs": [
        {
          "output_type": "stream",
          "text": [
            "9\n",
            "8\n",
            "7\n",
            "6\n",
            "5\n",
            "4\n",
            "3\n",
            "2\n",
            "1\n",
            "0\n",
            "Help on class reversed in module builtins:\n",
            "\n",
            "class reversed(object)\n",
            " |  reversed(sequence) -> reverse iterator over values of the sequence\n",
            " |  \n",
            " |  Return a reverse iterator\n",
            " |  \n",
            " |  Methods defined here:\n",
            " |  \n",
            " |  __getattribute__(self, name, /)\n",
            " |      Return getattr(self, name).\n",
            " |  \n",
            " |  __iter__(self, /)\n",
            " |      Implement iter(self).\n",
            " |  \n",
            " |  __length_hint__(...)\n",
            " |      Private method returning an estimate of len(list(it)).\n",
            " |  \n",
            " |  __new__(*args, **kwargs) from builtins.type\n",
            " |      Create and return a new object.  See help(type) for accurate signature.\n",
            " |  \n",
            " |  __next__(self, /)\n",
            " |      Implement next(self).\n",
            " |  \n",
            " |  __reduce__(...)\n",
            " |      Return state information for pickling.\n",
            " |  \n",
            " |  __setstate__(...)\n",
            " |      Set state information for unpickling.\n",
            "\n"
          ],
          "name": "stdout"
        },
        {
          "output_type": "execute_result",
          "data": {
            "text/plain": [
              "True"
            ]
          },
          "metadata": {
            "tags": []
          },
          "execution_count": 4
        }
      ]
    },
    {
      "cell_type": "code",
      "metadata": {
        "id": "1o5NvWHJW6X0"
      },
      "source": [
        "# class\n",
        "class Test():\n",
        "  \"\"\"testtesttest\"\"\"\n",
        "  __slots__ = ['name', 'age'] # 可以綁定屬性\n",
        "  def __init__(self, name, age, score):\n",
        "    self.name = name\n",
        "    self.age = age\n",
        "    # self.score = score 會出錯\n",
        "  def __repr__(self): # 用print\n",
        "    return \"the repr\"\n",
        "  def __str__(self):  # 直接輸入變數\n",
        "    return \"the str\"\n",
        "\n",
        "a = Test('abc', 11, 50)\n",
        "# a\n",
        "# print(a)\n",
        "\n",
        "# dir(a)\n",
        "# vars(a)\n",
        "# Test.__doc__ 顯示“”“”“”內的文字\n",
        "\n",
        "\n",
        "# 動態綁定\n",
        "class Student(object):\n",
        "    pass\n",
        "\n",
        "s1 = Student()\n",
        "s2 = Student()\n",
        "# 綁定屬性\n",
        "s1.name = 'john'\n",
        "s1.name\n",
        "Student.name = '111' # 綁定類屬性\n",
        "s2.name\n",
        "\n",
        "\n",
        "# setattr, getattr, dir\n",
        "class Person():\n",
        "  pass\n",
        "\n",
        "person = Person()\n",
        "\n",
        "first_key = 'first'\n",
        "first_value = 'abc'\n",
        "setattr(person, first_key, first_value)\n",
        "first = getattr(person, first_key)\n",
        "\n",
        "\n",
        "person_info = {'first': 'a', 'last': 'b'}\n",
        "\n",
        "for key, value in person_info.items():\n",
        "  setattr(person, key, value)\n",
        "\n",
        "for key, value in person_info.items():\n",
        "  print(getattr(person, key))\n",
        "\n",
        "\n",
        "  \n",
        "# 綁定方法\n",
        "def set_name(self, name):\n",
        "  self.name = name\n",
        "\n",
        "from types import MethodType\n",
        "s1.set_name = MethodType(set_name, s1) # 綁定實例方法\n",
        "s1.set_name('ccc')\n",
        "# s2.set_name('ddd') 會出錯，因為只綁定s1的方法\n",
        "\n",
        "Student.set_name = set_name # 綁定類別方法\n",
        "s1.set_name('aaa')\n",
        "s2.set_name('bbb')"
      ],
      "execution_count": null,
      "outputs": []
    },
    {
      "cell_type": "code",
      "metadata": {
        "colab": {
          "base_uri": "https://localhost:8080/"
        },
        "id": "oX73GDJ4Nc7w",
        "outputId": "cf115e04-b2a5-407e-d430-19eca60d0e52"
      },
      "source": [
        "# collections\n",
        "\n",
        "# defaultdict for 不存在的key(原本怕出錯要寫條件, 除非用get)\n",
        "from collections import defaultdict\n",
        "\n",
        "# default value = []\n",
        "better_dict = defaultdict(list) # default值以一個list()方法產生\n",
        "check_default = better_dict['a']\n",
        "print(check_default) # 會輸出list()方法產生的空串列[]\n",
        "\n",
        "better_dict['b'].append(1) # [1] \n",
        "better_dict['b'].append(2) # [1,2] \n",
        "better_dict['b'].append(3) # [1,2,3] \n",
        "print(better_dict['b'])\n",
        "\n",
        "# default value = 0\n",
        "def zero():\n",
        "  return 0\n",
        "\n",
        "default_value_zero_dict = defaultdict(zero)\n",
        "a_list = ['a', 'b', 'x', 'a', 'b', 'z']\n",
        "for elem in a_list:\n",
        "  default_value_zero_dict[elem] += 1\n",
        "\n",
        "# Counter\n",
        "from collections import Counter\n",
        "my_list = [1,2,2,3,4,4,4,5]\n",
        "counter = Counter(my_list)\n",
        "counter.most_common(2)\n",
        "counter.update([2,4,5])\n",
        "\n",
        "\n",
        "# namedtuple 可以用.name 的方式呼叫元素，降低位置過強的耦合性\n",
        "from collections import namedtuple\n",
        "Stock = namedtuple('Stock', ['name', 'shares', 'price'])\n",
        "a_stock = Stock('AAPL', 10, 222.0)\n",
        "a_stock.shares\n",
        "\n",
        "a_stock._replace(name='ggl')\n",
        "\n",
        "# deque 解決list在head push/pop的低效率\n",
        "from collections import deque\n",
        "d = deque('123456789')\n",
        "\n",
        "d.pop()\n",
        "d.extendleft(['x', 'y'])\n",
        "d.rotate(1)\n",
        "d.reverse()\n",
        "d\n",
        "\n",
        "# orderedDict 依照插入的順序排序key\n",
        "from collections import OrderedDict\n",
        "d = OrderedDict([('1', 4), ('2', 3), ('3', 2), ('4', 1)]) \n",
        "sorted(d.items(), key=lambda x:x[1])\n",
        "\n",
        "# chainMap 管理很多dict\n",
        "from collections import ChainMap\n",
        "\n",
        "a_dict = {'a1':1, 'a2':2, 'c1':3} # a_dict裏面的key:'c1',會和c_dict裡重複\n",
        "b_dict = {'b1':4, 'b2':5, 'b3':6}\n",
        "c_dict = {'c1':7, 'c2':8, 'c3':9}\n",
        "\n",
        "dicts = ChainMap(a_dict,b_dict,c_dict)\n",
        "\n",
        "print(dicts['a2']) # 2\n",
        "print(dicts['c1']) # 3 而不是 7\n",
        "print(dicts['c2']) # 8\n",
        "print(dicts['b2']) # 5\n",
        "print(dicts['b4']) # KeyError\n"
      ],
      "execution_count": null,
      "outputs": [
        {
          "output_type": "stream",
          "text": [
            "[]\n",
            "[1, 2, 3]\n"
          ],
          "name": "stdout"
        },
        {
          "output_type": "execute_result",
          "data": {
            "text/plain": [
              "[('4', 1), ('3', 2), ('2', 3), ('1', 4)]"
            ]
          },
          "metadata": {
            "tags": []
          },
          "execution_count": 25
        }
      ]
    },
    {
      "cell_type": "code",
      "metadata": {
        "colab": {
          "base_uri": "https://localhost:8080/"
        },
        "id": "vDFZFftzMKO9",
        "outputId": "35f70ad6-ad6a-43f5-e9a0-9475af24021d"
      },
      "source": [
        "# generator comprehension\n",
        "import sys\n",
        "my_list = [i for i in range(1000)] \n",
        "my_gen = (i for i in range(1000))\n",
        "print(sys.getsizeof(my_list))\n",
        "print(sys.getsizeof(my_gen)) # yield one at one time\n",
        "\n",
        "#list comprehension\n",
        "squares = [i*i for i in range(10)]\n",
        "squares"
      ],
      "execution_count": null,
      "outputs": [
        {
          "output_type": "stream",
          "text": [
            "9024\n",
            "88\n"
          ],
          "name": "stdout"
        }
      ]
    },
    {
      "cell_type": "code",
      "metadata": {
        "colab": {
          "base_uri": "https://localhost:8080/"
        },
        "id": "rB_uY5ON1kMc",
        "outputId": "dafe34ef-5a3f-4b08-cb8d-5e06c98608ab"
      },
      "source": [
        "#zip and unpack*\n",
        "names = ['a', 'b', 'c']\n",
        "heros = [1, 2, 3]\n",
        "\n",
        "for name, hero in zip(names, heros):\n",
        "  print(name, hero)\n",
        "\n",
        "bad_guys = ['~', '!', '@']\n",
        "for name, *hero in zip(names, heros, bad_guys):\n",
        "  print(name, hero)"
      ],
      "execution_count": null,
      "outputs": [
        {
          "output_type": "stream",
          "text": [
            "a 1\n",
            "b 2\n",
            "c 3\n",
            "a [1, '~']\n",
            "b [2, '!']\n",
            "c [3, '@']\n"
          ],
          "name": "stdout"
        }
      ]
    },
    {
      "cell_type": "code",
      "metadata": {
        "colab": {
          "base_uri": "https://localhost:8080/"
        },
        "id": "ixL_wyqfzDVU",
        "outputId": "4abb1a09-a629-4782-95b2-5f040000e578"
      },
      "source": [
        "# enumerate\n",
        "names = ['a', 'b', 'c']\n",
        "\n",
        "for i in range(len(names)):\n",
        "  print(names[i])\n",
        "# 簡化\n",
        "for name in names:\n",
        "  print(name)\n",
        "\n",
        "for index, name in enumerate(names):\n",
        "  print (index, name) "
      ],
      "execution_count": null,
      "outputs": [
        {
          "output_type": "stream",
          "text": [
            "a\n",
            "b\n",
            "c\n"
          ],
          "name": "stdout"
        }
      ]
    },
    {
      "cell_type": "code",
      "metadata": {
        "id": "uYl-YdJMynJj"
      },
      "source": [
        "# with\n",
        "f = open('test.txt', 'r')\n",
        "file_contents = f.read()\n",
        "f.close()\n",
        "# 簡化\n",
        "with open('test.txt', 'r') as f:\n",
        "  file_contents = f.read()"
      ],
      "execution_count": null,
      "outputs": []
    },
    {
      "cell_type": "code",
      "metadata": {
        "colab": {
          "base_uri": "https://localhost:8080/"
        },
        "id": "8T2U_ggdyJJ0",
        "outputId": "5c5098a4-a2bc-4ad2-c33c-8609b2eecdbb"
      },
      "source": [
        "# 數字對齊表示\n",
        "num1 = 1_000_000_000\n",
        "num2 = 10_000_000\n",
        "total = num1 + num2 \n",
        "print(total)"
      ],
      "execution_count": null,
      "outputs": [
        {
          "output_type": "stream",
          "text": [
            "1010000000\n"
          ],
          "name": "stdout"
        }
      ]
    },
    {
      "cell_type": "code",
      "metadata": {
        "id": "okl4XkOQVpCi"
      },
      "source": [
        "# 三元\n",
        "condition = True\n",
        "if condition:\n",
        "  x = 1\n",
        "else:\n",
        "  x = 0\n",
        "# 簡化\n",
        "x = 1 if condition else 0"
      ],
      "execution_count": null,
      "outputs": []
    },
    {
      "cell_type": "code",
      "metadata": {
        "colab": {
          "base_uri": "https://localhost:8080/"
        },
        "id": "4CeJsHOgSngT",
        "outputId": "556111a9-b46c-4962-9c50-3add6ae7bac2"
      },
      "source": [
        "# swap value\n",
        "x, y = 10, 20\n",
        "x, y = y, x\n",
        "print(x, y)"
      ],
      "execution_count": null,
      "outputs": [
        {
          "output_type": "stream",
          "text": [
            "20 10\n"
          ],
          "name": "stdout"
        }
      ]
    },
    {
      "cell_type": "code",
      "metadata": {
        "colab": {
          "base_uri": "https://localhost:8080/"
        },
        "id": "kSCgrltpS_z-",
        "outputId": "5609b7f4-294d-4832-e545-d05f15cca977"
      },
      "source": [
        "#reverse string\n",
        "a = \"abcdefghi\"\n",
        "print(f\"reversed is {a[::-1]}\")"
      ],
      "execution_count": null,
      "outputs": [
        {
          "output_type": "stream",
          "text": [
            "reversed is ihgfedcba\n"
          ],
          "name": "stdout"
        }
      ]
    },
    {
      "cell_type": "code",
      "metadata": {
        "colab": {
          "base_uri": "https://localhost:8080/"
        },
        "id": "idxb2tNuTRKN",
        "outputId": "2cdd9910-14cd-496e-e559-c239250dc92e"
      },
      "source": [
        "#string join\n",
        "a = ['a', 'b', 'c']\n",
        "print(\" \".join(a))"
      ],
      "execution_count": null,
      "outputs": [
        {
          "output_type": "stream",
          "text": [
            "a b c\n"
          ],
          "name": "stdout"
        }
      ]
    },
    {
      "cell_type": "code",
      "metadata": {
        "colab": {
          "base_uri": "https://localhost:8080/"
        },
        "id": "g9IpwxYsTgqx",
        "outputId": "6c1cb841-e925-4d89-a085-5938fe3ccf08"
      },
      "source": [
        "# condision chain\n",
        "n = 10\n",
        "result = 1 < n <= 20\n",
        "print(result)\n",
        "result = 1 > n <= 20\n",
        "print(result)\n"
      ],
      "execution_count": null,
      "outputs": [
        {
          "output_type": "stream",
          "text": [
            "True\n",
            "False\n"
          ],
          "name": "stdout"
        }
      ]
    },
    {
      "cell_type": "code",
      "metadata": {
        "colab": {
          "base_uri": "https://localhost:8080/"
        },
        "id": "F8_NzEQGUCpE",
        "outputId": "145f2b30-ac53-4894-e27f-5810626b174b"
      },
      "source": [
        "# print modudle path\n",
        "import os\n",
        "import socket\n",
        "print(os)\n",
        "print(socket)"
      ],
      "execution_count": null,
      "outputs": [
        {
          "output_type": "stream",
          "text": [
            "<module 'os' from '/usr/lib/python3.6/os.py'>\n",
            "<module 'socket' from '/usr/lib/python3.6/socket.py'>\n"
          ],
          "name": "stdout"
        }
      ]
    },
    {
      "cell_type": "code",
      "metadata": {
        "colab": {
          "base_uri": "https://localhost:8080/"
        },
        "id": "7k5jCXe0UO_b",
        "outputId": "7fc724c9-a220-47b9-b9de-ae69d791efb3"
      },
      "source": [
        "# python's enums\n",
        "class Enum:\n",
        "  elem_1, elem_2, elem_3 = range(3)\n",
        "\n",
        "print(Enum.elem_1)\n",
        "print(Enum.elem_2)"
      ],
      "execution_count": null,
      "outputs": [
        {
          "output_type": "stream",
          "text": [
            "0\n",
            "1\n"
          ],
          "name": "stdout"
        }
      ]
    }
  ]
}