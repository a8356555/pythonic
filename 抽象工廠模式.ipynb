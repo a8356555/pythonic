{
  "nbformat": 4,
  "nbformat_minor": 0,
  "metadata": {
    "colab": {
      "name": "抽象工廠模式.ipynb",
      "provenance": []
    },
    "kernelspec": {
      "name": "python3",
      "display_name": "Python 3"
    }
  },
  "cells": [
    {
      "cell_type": "code",
      "metadata": {
        "colab": {
          "base_uri": "https://localhost:8080/"
        },
        "id": "lwPsxsKTPBeG",
        "outputId": "5a74aa2c-7842-41b7-83b7-04300cdadafb"
      },
      "source": [
        "# 工廠模式\n",
        "class A:\n",
        "\n",
        "    def __init__(self):\n",
        "        self.word = \"執行A\"\n",
        "\n",
        "    def run(self):\n",
        "        print(self.word)\n",
        "\n",
        "class B:\n",
        "\n",
        "    def __init__(self):\n",
        "        self.word = \"執行B\"\n",
        "\n",
        "\n",
        "    def run(self):\n",
        "        print(self.word)\n",
        "\n",
        "\n",
        "def Interface(classname):\n",
        "\n",
        "    \"\"\"\n",
        "    工廠模式介面函式\n",
        "    :param classname:\n",
        "    :return:\n",
        "    \"\"\"\n",
        "\n",
        "    run = dict(A=A, B=B)\n",
        "    return run[classname]()\n",
        "\n",
        "if __name__ == '__main__':\n",
        "    test1 = Interface('A')\n",
        "    test1.run()\n",
        "\n",
        "    test2 = Interface('B')\n",
        "    test2.run()\n",
        "\n"
      ],
      "execution_count": 1,
      "outputs": [
        {
          "output_type": "stream",
          "text": [
            "執行A\n",
            "執行B\n"
          ],
          "name": "stdout"
        }
      ]
    },
    {
      "cell_type": "code",
      "metadata": {
        "id": "R101cImoPYuX"
      },
      "source": [
        "# 抽象工廠模式\n",
        "class A:\n",
        "\n",
        "    def __init__(self):\n",
        "        self.word = \"執行A\"\n",
        "\n",
        "    def run(self):\n",
        "        print(self.word)\n",
        "\n",
        "class B:\n",
        "\n",
        "    def __init__(self):\n",
        "        self.word = \"執行B\"\n",
        "\n",
        "    def run(self):\n",
        "        print(self.word)\n",
        "\n",
        "class Interface:\n",
        "    \"\"\"\n",
        "    抽象工廠模式介面類\n",
        "    :param classname:\n",
        "    :return:\n",
        "    \"\"\"\n",
        "    def __init__(self, classname=None):\n",
        "        self.test = classname\n",
        "\n",
        "    def run(self):\n",
        "        self.test().run()\n",
        "\n",
        "if __name__ == '__main__':\n",
        "    test1 = Interface()\n",
        "    test1.test = A\n",
        "    test1.run()\n",
        "\n",
        "    test1.test = B\n",
        "    test1.run()"
      ],
      "execution_count": null,
      "outputs": []
    },
    {
      "cell_type": "markdown",
      "metadata": {
        "id": "K_kHgwWvP_4Z"
      },
      "source": [
        "抽象工廠、工廠方法異同比較：\n",
        "* 工廠例項化的類在介面方法裡已經通過字典方式例舉出來了，也就是不是例項化A就是B，但是抽象工廠例項化的類未知，可以在抽象介面類裡傳入A或者B，也可以新建一個C類傳入"
      ]
    }
  ]
}